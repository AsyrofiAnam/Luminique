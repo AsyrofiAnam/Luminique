{
  "nbformat": 4,
  "nbformat_minor": 0,
  "metadata": {
    "colab": {
      "provenance": [],
      "mount_file_id": "1OBm8eb39rrAvG93xBKv9H4owrp7ZrZB9",
      "authorship_tag": "ABX9TyO2/HkKcgXDx5mR8Tbli64s",
      "include_colab_link": true
    },
    "kernelspec": {
      "name": "python3",
      "display_name": "Python 3"
    },
    "language_info": {
      "name": "python"
    }
  },
  "cells": [
    {
      "cell_type": "markdown",
      "metadata": {
        "id": "view-in-github",
        "colab_type": "text"
      },
      "source": [
        "<a href=\"https://colab.research.google.com/github/AsyrofiAnam/Luminique-/blob/main/Prediksi_hasil_permainan_catur_menggunakan_Rating_dan_Jumlah_Gerakan_Pemain.ipynb\" target=\"_parent\"><img src=\"https://colab.research.google.com/assets/colab-badge.svg\" alt=\"Open In Colab\"/></a>"
      ]
    },
    {
      "cell_type": "markdown",
      "source": [
        "# **Prediksi hasil permainan catur menggunakan Rating dan Jumlah Gerakan Pemain**\n",
        "Nama Kelompok: Luminique🎲 \\\n",
        "Anggota Kelompok : \\\n",
        "    1. Asyrofi Anam \\\n",
        "\t\t2. Devid Pratama Sahar \\\n",
        "\t\t3. Muhammad Aziz \\\n",
        "\t\t4. Muhammad Zhaky Arkan \\\n",
        "Link dataset \t: https://www.kaggle.com/datasets/datasnaek/chess \\\n",
        "Algoritma yang digunakan : K-Nearest Neighbors (KNN)"
      ],
      "metadata": {
        "id": "ab36wqO5WjdJ"
      }
    },
    {
      "cell_type": "markdown",
      "source": [
        "# **Import Library**"
      ],
      "metadata": {
        "id": "Ee4LjK5Dd5BR"
      }
    },
    {
      "cell_type": "code",
      "source": [
        "import pandas as pd\n",
        "from sklearn.model_selection import train_test_split, cross_val_score\n",
        "from sklearn.preprocessing import LabelEncoder, StandardScaler\n",
        "from sklearn.neighbors import KNeighborsClassifier\n",
        "from sklearn.metrics import accuracy_score, classification_report, confusion_matrix\n",
        "import seaborn as sns\n",
        "import matplotlib.pyplot as plt\n",
        "import numpy as np"
      ],
      "metadata": {
        "id": "3AkuVfx_eCht"
      },
      "execution_count": 57,
      "outputs": []
    },
    {
      "cell_type": "markdown",
      "source": [
        "# **Eksplorasi Data**"
      ],
      "metadata": {
        "id": "8BFHIbFNewwl"
      }
    },
    {
      "cell_type": "markdown",
      "source": [
        "### **Membaca data dari file CSV**"
      ],
      "metadata": {
        "id": "L30ETyzN6sVb"
      }
    },
    {
      "cell_type": "code",
      "source": [
        "chess = pd.read_csv(\"/content/drive/MyDrive/UAS KECERDASAN BUATAN/games.csv\")\n",
        "chess"
      ],
      "metadata": {
        "id": "iRhuRaLxe5tg",
        "colab": {
          "base_uri": "https://localhost:8080/",
          "height": 1000
        },
        "outputId": "79e10b07-5598-4f57-cbf1-f873af642c4d"
      },
      "execution_count": 58,
      "outputs": [
        {
          "output_type": "execute_result",
          "data": {
            "text/plain": [
              "             id  rated    created_at  last_move_at  turns victory_status  \\\n",
              "0      TZJHLljE  False  1.504210e+12  1.504210e+12     13      outoftime   \n",
              "1      l1NXvwaE   True  1.504130e+12  1.504130e+12     16         resign   \n",
              "2      mIICvQHh   True  1.504130e+12  1.504130e+12     61           mate   \n",
              "3      kWKvrqYL   True  1.504110e+12  1.504110e+12     61           mate   \n",
              "4      9tXo1AUZ   True  1.504030e+12  1.504030e+12     95           mate   \n",
              "...         ...    ...           ...           ...    ...            ...   \n",
              "20053  EfqH7VVH   True  1.499791e+12  1.499791e+12     24         resign   \n",
              "20054  WSJDhbPl   True  1.499698e+12  1.499699e+12     82           mate   \n",
              "20055  yrAas0Kj   True  1.499698e+12  1.499698e+12     35           mate   \n",
              "20056  b0v4tRyF   True  1.499696e+12  1.499697e+12    109         resign   \n",
              "20057  N8G2JHGG   True  1.499643e+12  1.499644e+12     78           mate   \n",
              "\n",
              "      winner increment_code       white_id  white_rating            black_id  \\\n",
              "0      white           15+2       bourgris          1500                a-00   \n",
              "1      black           5+10           a-00          1322           skinnerua   \n",
              "2      white           5+10         ischia          1496                a-00   \n",
              "3      white           20+0  daniamurashov          1439        adivanov2009   \n",
              "4      white           30+3      nik221107          1523        adivanov2009   \n",
              "...      ...            ...            ...           ...                 ...   \n",
              "20053  white          10+10        belcolt          1691            jamboger   \n",
              "20054  black           10+0       jamboger          1233  farrukhasomiddinov   \n",
              "20055  white           10+0       jamboger          1219        schaaksmurf3   \n",
              "20056  white           10+0   marcodisogno          1360            jamboger   \n",
              "20057  black           10+0       jamboger          1235               ffbob   \n",
              "\n",
              "       black_rating                                              moves  \\\n",
              "0              1191  d4 d5 c4 c6 cxd5 e6 dxe6 fxe6 Nf3 Bb4+ Nc3 Ba5...   \n",
              "1              1261  d4 Nc6 e4 e5 f4 f6 dxe5 fxe5 fxe5 Nxe5 Qd4 Nc6...   \n",
              "2              1500  e4 e5 d3 d6 Be3 c6 Be2 b5 Nd2 a5 a4 c5 axb5 Nc...   \n",
              "3              1454  d4 d5 Nf3 Bf5 Nc3 Nf6 Bf4 Ng4 e3 Nc6 Be2 Qd7 O...   \n",
              "4              1469  e4 e5 Nf3 d6 d4 Nc6 d5 Nb4 a3 Na6 Nc3 Be7 b4 N...   \n",
              "...             ...                                                ...   \n",
              "20053          1220  d4 f5 e3 e6 Nf3 Nf6 Nc3 b6 Be2 Bb7 O-O Be7 Ne5...   \n",
              "20054          1196  d4 d6 Bf4 e5 Bg3 Nf6 e3 exd4 exd4 d5 c3 Bd6 Bd...   \n",
              "20055          1286  d4 d5 Bf4 Nc6 e3 Nf6 c3 e6 Nf3 Be7 Bd3 O-O Nbd...   \n",
              "20056          1227  e4 d6 d4 Nf6 e5 dxe5 dxe5 Qxd1+ Kxd1 Nd5 c4 Nb...   \n",
              "20057          1339  d4 d5 Bf4 Na6 e3 e6 c3 Nf6 Nf3 Bd7 Nbd2 b5 Bd3...   \n",
              "\n",
              "      opening_eco                            opening_name  opening_ply  \n",
              "0             D10        Slav Defense: Exchange Variation            5  \n",
              "1             B00  Nimzowitsch Defense: Kennedy Variation            4  \n",
              "2             C20   King's Pawn Game: Leonardis Variation            3  \n",
              "3             D02  Queen's Pawn Game: Zukertort Variation            3  \n",
              "4             C41                        Philidor Defense            5  \n",
              "...           ...                                     ...          ...  \n",
              "20053         A80                           Dutch Defense            2  \n",
              "20054         A41                            Queen's Pawn            2  \n",
              "20055         D00         Queen's Pawn Game: Mason Attack            3  \n",
              "20056         B07                            Pirc Defense            4  \n",
              "20057         D00         Queen's Pawn Game: Mason Attack            3  \n",
              "\n",
              "[20058 rows x 16 columns]"
            ],
            "text/html": [
              "\n",
              "  <div id=\"df-b825f165-73ef-4b62-8b55-eb3658aea0b0\" class=\"colab-df-container\">\n",
              "    <div>\n",
              "<style scoped>\n",
              "    .dataframe tbody tr th:only-of-type {\n",
              "        vertical-align: middle;\n",
              "    }\n",
              "\n",
              "    .dataframe tbody tr th {\n",
              "        vertical-align: top;\n",
              "    }\n",
              "\n",
              "    .dataframe thead th {\n",
              "        text-align: right;\n",
              "    }\n",
              "</style>\n",
              "<table border=\"1\" class=\"dataframe\">\n",
              "  <thead>\n",
              "    <tr style=\"text-align: right;\">\n",
              "      <th></th>\n",
              "      <th>id</th>\n",
              "      <th>rated</th>\n",
              "      <th>created_at</th>\n",
              "      <th>last_move_at</th>\n",
              "      <th>turns</th>\n",
              "      <th>victory_status</th>\n",
              "      <th>winner</th>\n",
              "      <th>increment_code</th>\n",
              "      <th>white_id</th>\n",
              "      <th>white_rating</th>\n",
              "      <th>black_id</th>\n",
              "      <th>black_rating</th>\n",
              "      <th>moves</th>\n",
              "      <th>opening_eco</th>\n",
              "      <th>opening_name</th>\n",
              "      <th>opening_ply</th>\n",
              "    </tr>\n",
              "  </thead>\n",
              "  <tbody>\n",
              "    <tr>\n",
              "      <th>0</th>\n",
              "      <td>TZJHLljE</td>\n",
              "      <td>False</td>\n",
              "      <td>1.504210e+12</td>\n",
              "      <td>1.504210e+12</td>\n",
              "      <td>13</td>\n",
              "      <td>outoftime</td>\n",
              "      <td>white</td>\n",
              "      <td>15+2</td>\n",
              "      <td>bourgris</td>\n",
              "      <td>1500</td>\n",
              "      <td>a-00</td>\n",
              "      <td>1191</td>\n",
              "      <td>d4 d5 c4 c6 cxd5 e6 dxe6 fxe6 Nf3 Bb4+ Nc3 Ba5...</td>\n",
              "      <td>D10</td>\n",
              "      <td>Slav Defense: Exchange Variation</td>\n",
              "      <td>5</td>\n",
              "    </tr>\n",
              "    <tr>\n",
              "      <th>1</th>\n",
              "      <td>l1NXvwaE</td>\n",
              "      <td>True</td>\n",
              "      <td>1.504130e+12</td>\n",
              "      <td>1.504130e+12</td>\n",
              "      <td>16</td>\n",
              "      <td>resign</td>\n",
              "      <td>black</td>\n",
              "      <td>5+10</td>\n",
              "      <td>a-00</td>\n",
              "      <td>1322</td>\n",
              "      <td>skinnerua</td>\n",
              "      <td>1261</td>\n",
              "      <td>d4 Nc6 e4 e5 f4 f6 dxe5 fxe5 fxe5 Nxe5 Qd4 Nc6...</td>\n",
              "      <td>B00</td>\n",
              "      <td>Nimzowitsch Defense: Kennedy Variation</td>\n",
              "      <td>4</td>\n",
              "    </tr>\n",
              "    <tr>\n",
              "      <th>2</th>\n",
              "      <td>mIICvQHh</td>\n",
              "      <td>True</td>\n",
              "      <td>1.504130e+12</td>\n",
              "      <td>1.504130e+12</td>\n",
              "      <td>61</td>\n",
              "      <td>mate</td>\n",
              "      <td>white</td>\n",
              "      <td>5+10</td>\n",
              "      <td>ischia</td>\n",
              "      <td>1496</td>\n",
              "      <td>a-00</td>\n",
              "      <td>1500</td>\n",
              "      <td>e4 e5 d3 d6 Be3 c6 Be2 b5 Nd2 a5 a4 c5 axb5 Nc...</td>\n",
              "      <td>C20</td>\n",
              "      <td>King's Pawn Game: Leonardis Variation</td>\n",
              "      <td>3</td>\n",
              "    </tr>\n",
              "    <tr>\n",
              "      <th>3</th>\n",
              "      <td>kWKvrqYL</td>\n",
              "      <td>True</td>\n",
              "      <td>1.504110e+12</td>\n",
              "      <td>1.504110e+12</td>\n",
              "      <td>61</td>\n",
              "      <td>mate</td>\n",
              "      <td>white</td>\n",
              "      <td>20+0</td>\n",
              "      <td>daniamurashov</td>\n",
              "      <td>1439</td>\n",
              "      <td>adivanov2009</td>\n",
              "      <td>1454</td>\n",
              "      <td>d4 d5 Nf3 Bf5 Nc3 Nf6 Bf4 Ng4 e3 Nc6 Be2 Qd7 O...</td>\n",
              "      <td>D02</td>\n",
              "      <td>Queen's Pawn Game: Zukertort Variation</td>\n",
              "      <td>3</td>\n",
              "    </tr>\n",
              "    <tr>\n",
              "      <th>4</th>\n",
              "      <td>9tXo1AUZ</td>\n",
              "      <td>True</td>\n",
              "      <td>1.504030e+12</td>\n",
              "      <td>1.504030e+12</td>\n",
              "      <td>95</td>\n",
              "      <td>mate</td>\n",
              "      <td>white</td>\n",
              "      <td>30+3</td>\n",
              "      <td>nik221107</td>\n",
              "      <td>1523</td>\n",
              "      <td>adivanov2009</td>\n",
              "      <td>1469</td>\n",
              "      <td>e4 e5 Nf3 d6 d4 Nc6 d5 Nb4 a3 Na6 Nc3 Be7 b4 N...</td>\n",
              "      <td>C41</td>\n",
              "      <td>Philidor Defense</td>\n",
              "      <td>5</td>\n",
              "    </tr>\n",
              "    <tr>\n",
              "      <th>...</th>\n",
              "      <td>...</td>\n",
              "      <td>...</td>\n",
              "      <td>...</td>\n",
              "      <td>...</td>\n",
              "      <td>...</td>\n",
              "      <td>...</td>\n",
              "      <td>...</td>\n",
              "      <td>...</td>\n",
              "      <td>...</td>\n",
              "      <td>...</td>\n",
              "      <td>...</td>\n",
              "      <td>...</td>\n",
              "      <td>...</td>\n",
              "      <td>...</td>\n",
              "      <td>...</td>\n",
              "      <td>...</td>\n",
              "    </tr>\n",
              "    <tr>\n",
              "      <th>20053</th>\n",
              "      <td>EfqH7VVH</td>\n",
              "      <td>True</td>\n",
              "      <td>1.499791e+12</td>\n",
              "      <td>1.499791e+12</td>\n",
              "      <td>24</td>\n",
              "      <td>resign</td>\n",
              "      <td>white</td>\n",
              "      <td>10+10</td>\n",
              "      <td>belcolt</td>\n",
              "      <td>1691</td>\n",
              "      <td>jamboger</td>\n",
              "      <td>1220</td>\n",
              "      <td>d4 f5 e3 e6 Nf3 Nf6 Nc3 b6 Be2 Bb7 O-O Be7 Ne5...</td>\n",
              "      <td>A80</td>\n",
              "      <td>Dutch Defense</td>\n",
              "      <td>2</td>\n",
              "    </tr>\n",
              "    <tr>\n",
              "      <th>20054</th>\n",
              "      <td>WSJDhbPl</td>\n",
              "      <td>True</td>\n",
              "      <td>1.499698e+12</td>\n",
              "      <td>1.499699e+12</td>\n",
              "      <td>82</td>\n",
              "      <td>mate</td>\n",
              "      <td>black</td>\n",
              "      <td>10+0</td>\n",
              "      <td>jamboger</td>\n",
              "      <td>1233</td>\n",
              "      <td>farrukhasomiddinov</td>\n",
              "      <td>1196</td>\n",
              "      <td>d4 d6 Bf4 e5 Bg3 Nf6 e3 exd4 exd4 d5 c3 Bd6 Bd...</td>\n",
              "      <td>A41</td>\n",
              "      <td>Queen's Pawn</td>\n",
              "      <td>2</td>\n",
              "    </tr>\n",
              "    <tr>\n",
              "      <th>20055</th>\n",
              "      <td>yrAas0Kj</td>\n",
              "      <td>True</td>\n",
              "      <td>1.499698e+12</td>\n",
              "      <td>1.499698e+12</td>\n",
              "      <td>35</td>\n",
              "      <td>mate</td>\n",
              "      <td>white</td>\n",
              "      <td>10+0</td>\n",
              "      <td>jamboger</td>\n",
              "      <td>1219</td>\n",
              "      <td>schaaksmurf3</td>\n",
              "      <td>1286</td>\n",
              "      <td>d4 d5 Bf4 Nc6 e3 Nf6 c3 e6 Nf3 Be7 Bd3 O-O Nbd...</td>\n",
              "      <td>D00</td>\n",
              "      <td>Queen's Pawn Game: Mason Attack</td>\n",
              "      <td>3</td>\n",
              "    </tr>\n",
              "    <tr>\n",
              "      <th>20056</th>\n",
              "      <td>b0v4tRyF</td>\n",
              "      <td>True</td>\n",
              "      <td>1.499696e+12</td>\n",
              "      <td>1.499697e+12</td>\n",
              "      <td>109</td>\n",
              "      <td>resign</td>\n",
              "      <td>white</td>\n",
              "      <td>10+0</td>\n",
              "      <td>marcodisogno</td>\n",
              "      <td>1360</td>\n",
              "      <td>jamboger</td>\n",
              "      <td>1227</td>\n",
              "      <td>e4 d6 d4 Nf6 e5 dxe5 dxe5 Qxd1+ Kxd1 Nd5 c4 Nb...</td>\n",
              "      <td>B07</td>\n",
              "      <td>Pirc Defense</td>\n",
              "      <td>4</td>\n",
              "    </tr>\n",
              "    <tr>\n",
              "      <th>20057</th>\n",
              "      <td>N8G2JHGG</td>\n",
              "      <td>True</td>\n",
              "      <td>1.499643e+12</td>\n",
              "      <td>1.499644e+12</td>\n",
              "      <td>78</td>\n",
              "      <td>mate</td>\n",
              "      <td>black</td>\n",
              "      <td>10+0</td>\n",
              "      <td>jamboger</td>\n",
              "      <td>1235</td>\n",
              "      <td>ffbob</td>\n",
              "      <td>1339</td>\n",
              "      <td>d4 d5 Bf4 Na6 e3 e6 c3 Nf6 Nf3 Bd7 Nbd2 b5 Bd3...</td>\n",
              "      <td>D00</td>\n",
              "      <td>Queen's Pawn Game: Mason Attack</td>\n",
              "      <td>3</td>\n",
              "    </tr>\n",
              "  </tbody>\n",
              "</table>\n",
              "<p>20058 rows × 16 columns</p>\n",
              "</div>\n",
              "    <div class=\"colab-df-buttons\">\n",
              "\n",
              "  <div class=\"colab-df-container\">\n",
              "    <button class=\"colab-df-convert\" onclick=\"convertToInteractive('df-b825f165-73ef-4b62-8b55-eb3658aea0b0')\"\n",
              "            title=\"Convert this dataframe to an interactive table.\"\n",
              "            style=\"display:none;\">\n",
              "\n",
              "  <svg xmlns=\"http://www.w3.org/2000/svg\" height=\"24px\" viewBox=\"0 -960 960 960\">\n",
              "    <path d=\"M120-120v-720h720v720H120Zm60-500h600v-160H180v160Zm220 220h160v-160H400v160Zm0 220h160v-160H400v160ZM180-400h160v-160H180v160Zm440 0h160v-160H620v160ZM180-180h160v-160H180v160Zm440 0h160v-160H620v160Z\"/>\n",
              "  </svg>\n",
              "    </button>\n",
              "\n",
              "  <style>\n",
              "    .colab-df-container {\n",
              "      display:flex;\n",
              "      gap: 12px;\n",
              "    }\n",
              "\n",
              "    .colab-df-convert {\n",
              "      background-color: #E8F0FE;\n",
              "      border: none;\n",
              "      border-radius: 50%;\n",
              "      cursor: pointer;\n",
              "      display: none;\n",
              "      fill: #1967D2;\n",
              "      height: 32px;\n",
              "      padding: 0 0 0 0;\n",
              "      width: 32px;\n",
              "    }\n",
              "\n",
              "    .colab-df-convert:hover {\n",
              "      background-color: #E2EBFA;\n",
              "      box-shadow: 0px 1px 2px rgba(60, 64, 67, 0.3), 0px 1px 3px 1px rgba(60, 64, 67, 0.15);\n",
              "      fill: #174EA6;\n",
              "    }\n",
              "\n",
              "    .colab-df-buttons div {\n",
              "      margin-bottom: 4px;\n",
              "    }\n",
              "\n",
              "    [theme=dark] .colab-df-convert {\n",
              "      background-color: #3B4455;\n",
              "      fill: #D2E3FC;\n",
              "    }\n",
              "\n",
              "    [theme=dark] .colab-df-convert:hover {\n",
              "      background-color: #434B5C;\n",
              "      box-shadow: 0px 1px 3px 1px rgba(0, 0, 0, 0.15);\n",
              "      filter: drop-shadow(0px 1px 2px rgba(0, 0, 0, 0.3));\n",
              "      fill: #FFFFFF;\n",
              "    }\n",
              "  </style>\n",
              "\n",
              "    <script>\n",
              "      const buttonEl =\n",
              "        document.querySelector('#df-b825f165-73ef-4b62-8b55-eb3658aea0b0 button.colab-df-convert');\n",
              "      buttonEl.style.display =\n",
              "        google.colab.kernel.accessAllowed ? 'block' : 'none';\n",
              "\n",
              "      async function convertToInteractive(key) {\n",
              "        const element = document.querySelector('#df-b825f165-73ef-4b62-8b55-eb3658aea0b0');\n",
              "        const dataTable =\n",
              "          await google.colab.kernel.invokeFunction('convertToInteractive',\n",
              "                                                    [key], {});\n",
              "        if (!dataTable) return;\n",
              "\n",
              "        const docLinkHtml = 'Like what you see? Visit the ' +\n",
              "          '<a target=\"_blank\" href=https://colab.research.google.com/notebooks/data_table.ipynb>data table notebook</a>'\n",
              "          + ' to learn more about interactive tables.';\n",
              "        element.innerHTML = '';\n",
              "        dataTable['output_type'] = 'display_data';\n",
              "        await google.colab.output.renderOutput(dataTable, element);\n",
              "        const docLink = document.createElement('div');\n",
              "        docLink.innerHTML = docLinkHtml;\n",
              "        element.appendChild(docLink);\n",
              "      }\n",
              "    </script>\n",
              "  </div>\n",
              "\n",
              "\n",
              "<div id=\"df-01f75c96-7a29-485b-89ac-f5bcaa4c4ff8\">\n",
              "  <button class=\"colab-df-quickchart\" onclick=\"quickchart('df-01f75c96-7a29-485b-89ac-f5bcaa4c4ff8')\"\n",
              "            title=\"Suggest charts\"\n",
              "            style=\"display:none;\">\n",
              "\n",
              "<svg xmlns=\"http://www.w3.org/2000/svg\" height=\"24px\"viewBox=\"0 0 24 24\"\n",
              "     width=\"24px\">\n",
              "    <g>\n",
              "        <path d=\"M19 3H5c-1.1 0-2 .9-2 2v14c0 1.1.9 2 2 2h14c1.1 0 2-.9 2-2V5c0-1.1-.9-2-2-2zM9 17H7v-7h2v7zm4 0h-2V7h2v10zm4 0h-2v-4h2v4z\"/>\n",
              "    </g>\n",
              "</svg>\n",
              "  </button>\n",
              "\n",
              "<style>\n",
              "  .colab-df-quickchart {\n",
              "      --bg-color: #E8F0FE;\n",
              "      --fill-color: #1967D2;\n",
              "      --hover-bg-color: #E2EBFA;\n",
              "      --hover-fill-color: #174EA6;\n",
              "      --disabled-fill-color: #AAA;\n",
              "      --disabled-bg-color: #DDD;\n",
              "  }\n",
              "\n",
              "  [theme=dark] .colab-df-quickchart {\n",
              "      --bg-color: #3B4455;\n",
              "      --fill-color: #D2E3FC;\n",
              "      --hover-bg-color: #434B5C;\n",
              "      --hover-fill-color: #FFFFFF;\n",
              "      --disabled-bg-color: #3B4455;\n",
              "      --disabled-fill-color: #666;\n",
              "  }\n",
              "\n",
              "  .colab-df-quickchart {\n",
              "    background-color: var(--bg-color);\n",
              "    border: none;\n",
              "    border-radius: 50%;\n",
              "    cursor: pointer;\n",
              "    display: none;\n",
              "    fill: var(--fill-color);\n",
              "    height: 32px;\n",
              "    padding: 0;\n",
              "    width: 32px;\n",
              "  }\n",
              "\n",
              "  .colab-df-quickchart:hover {\n",
              "    background-color: var(--hover-bg-color);\n",
              "    box-shadow: 0 1px 2px rgba(60, 64, 67, 0.3), 0 1px 3px 1px rgba(60, 64, 67, 0.15);\n",
              "    fill: var(--button-hover-fill-color);\n",
              "  }\n",
              "\n",
              "  .colab-df-quickchart-complete:disabled,\n",
              "  .colab-df-quickchart-complete:disabled:hover {\n",
              "    background-color: var(--disabled-bg-color);\n",
              "    fill: var(--disabled-fill-color);\n",
              "    box-shadow: none;\n",
              "  }\n",
              "\n",
              "  .colab-df-spinner {\n",
              "    border: 2px solid var(--fill-color);\n",
              "    border-color: transparent;\n",
              "    border-bottom-color: var(--fill-color);\n",
              "    animation:\n",
              "      spin 1s steps(1) infinite;\n",
              "  }\n",
              "\n",
              "  @keyframes spin {\n",
              "    0% {\n",
              "      border-color: transparent;\n",
              "      border-bottom-color: var(--fill-color);\n",
              "      border-left-color: var(--fill-color);\n",
              "    }\n",
              "    20% {\n",
              "      border-color: transparent;\n",
              "      border-left-color: var(--fill-color);\n",
              "      border-top-color: var(--fill-color);\n",
              "    }\n",
              "    30% {\n",
              "      border-color: transparent;\n",
              "      border-left-color: var(--fill-color);\n",
              "      border-top-color: var(--fill-color);\n",
              "      border-right-color: var(--fill-color);\n",
              "    }\n",
              "    40% {\n",
              "      border-color: transparent;\n",
              "      border-right-color: var(--fill-color);\n",
              "      border-top-color: var(--fill-color);\n",
              "    }\n",
              "    60% {\n",
              "      border-color: transparent;\n",
              "      border-right-color: var(--fill-color);\n",
              "    }\n",
              "    80% {\n",
              "      border-color: transparent;\n",
              "      border-right-color: var(--fill-color);\n",
              "      border-bottom-color: var(--fill-color);\n",
              "    }\n",
              "    90% {\n",
              "      border-color: transparent;\n",
              "      border-bottom-color: var(--fill-color);\n",
              "    }\n",
              "  }\n",
              "</style>\n",
              "\n",
              "  <script>\n",
              "    async function quickchart(key) {\n",
              "      const quickchartButtonEl =\n",
              "        document.querySelector('#' + key + ' button');\n",
              "      quickchartButtonEl.disabled = true;  // To prevent multiple clicks.\n",
              "      quickchartButtonEl.classList.add('colab-df-spinner');\n",
              "      try {\n",
              "        const charts = await google.colab.kernel.invokeFunction(\n",
              "            'suggestCharts', [key], {});\n",
              "      } catch (error) {\n",
              "        console.error('Error during call to suggestCharts:', error);\n",
              "      }\n",
              "      quickchartButtonEl.classList.remove('colab-df-spinner');\n",
              "      quickchartButtonEl.classList.add('colab-df-quickchart-complete');\n",
              "    }\n",
              "    (() => {\n",
              "      let quickchartButtonEl =\n",
              "        document.querySelector('#df-01f75c96-7a29-485b-89ac-f5bcaa4c4ff8 button');\n",
              "      quickchartButtonEl.style.display =\n",
              "        google.colab.kernel.accessAllowed ? 'block' : 'none';\n",
              "    })();\n",
              "  </script>\n",
              "</div>\n",
              "\n",
              "  <div id=\"id_c7fd3e74-dd55-4a06-9519-59b1809c3f31\">\n",
              "    <style>\n",
              "      .colab-df-generate {\n",
              "        background-color: #E8F0FE;\n",
              "        border: none;\n",
              "        border-radius: 50%;\n",
              "        cursor: pointer;\n",
              "        display: none;\n",
              "        fill: #1967D2;\n",
              "        height: 32px;\n",
              "        padding: 0 0 0 0;\n",
              "        width: 32px;\n",
              "      }\n",
              "\n",
              "      .colab-df-generate:hover {\n",
              "        background-color: #E2EBFA;\n",
              "        box-shadow: 0px 1px 2px rgba(60, 64, 67, 0.3), 0px 1px 3px 1px rgba(60, 64, 67, 0.15);\n",
              "        fill: #174EA6;\n",
              "      }\n",
              "\n",
              "      [theme=dark] .colab-df-generate {\n",
              "        background-color: #3B4455;\n",
              "        fill: #D2E3FC;\n",
              "      }\n",
              "\n",
              "      [theme=dark] .colab-df-generate:hover {\n",
              "        background-color: #434B5C;\n",
              "        box-shadow: 0px 1px 3px 1px rgba(0, 0, 0, 0.15);\n",
              "        filter: drop-shadow(0px 1px 2px rgba(0, 0, 0, 0.3));\n",
              "        fill: #FFFFFF;\n",
              "      }\n",
              "    </style>\n",
              "    <button class=\"colab-df-generate\" onclick=\"generateWithVariable('chess')\"\n",
              "            title=\"Generate code using this dataframe.\"\n",
              "            style=\"display:none;\">\n",
              "\n",
              "  <svg xmlns=\"http://www.w3.org/2000/svg\" height=\"24px\"viewBox=\"0 0 24 24\"\n",
              "       width=\"24px\">\n",
              "    <path d=\"M7,19H8.4L18.45,9,17,7.55,7,17.6ZM5,21V16.75L18.45,3.32a2,2,0,0,1,2.83,0l1.4,1.43a1.91,1.91,0,0,1,.58,1.4,1.91,1.91,0,0,1-.58,1.4L9.25,21ZM18.45,9,17,7.55Zm-12,3A5.31,5.31,0,0,0,4.9,8.1,5.31,5.31,0,0,0,1,6.5,5.31,5.31,0,0,0,4.9,4.9,5.31,5.31,0,0,0,6.5,1,5.31,5.31,0,0,0,8.1,4.9,5.31,5.31,0,0,0,12,6.5,5.46,5.46,0,0,0,6.5,12Z\"/>\n",
              "  </svg>\n",
              "    </button>\n",
              "    <script>\n",
              "      (() => {\n",
              "      const buttonEl =\n",
              "        document.querySelector('#id_c7fd3e74-dd55-4a06-9519-59b1809c3f31 button.colab-df-generate');\n",
              "      buttonEl.style.display =\n",
              "        google.colab.kernel.accessAllowed ? 'block' : 'none';\n",
              "\n",
              "      buttonEl.onclick = () => {\n",
              "        google.colab.notebook.generateWithVariable('chess');\n",
              "      }\n",
              "      })();\n",
              "    </script>\n",
              "  </div>\n",
              "\n",
              "    </div>\n",
              "  </div>\n"
            ],
            "application/vnd.google.colaboratory.intrinsic+json": {
              "type": "dataframe",
              "variable_name": "chess",
              "summary": "{\n  \"name\": \"chess\",\n  \"rows\": 20058,\n  \"fields\": [\n    {\n      \"column\": \"id\",\n      \"properties\": {\n        \"dtype\": \"string\",\n        \"num_unique_values\": 19113,\n        \"samples\": [\n          \"fh9mVD7Q\",\n          \"PrpX9Fne\",\n          \"xCYtQhhQ\"\n        ],\n        \"semantic_type\": \"\",\n        \"description\": \"\"\n      }\n    },\n    {\n      \"column\": \"rated\",\n      \"properties\": {\n        \"dtype\": \"boolean\",\n        \"num_unique_values\": 2,\n        \"samples\": [\n          true,\n          false\n        ],\n        \"semantic_type\": \"\",\n        \"description\": \"\"\n      }\n    },\n    {\n      \"column\": \"created_at\",\n      \"properties\": {\n        \"dtype\": \"number\",\n        \"std\": 28501509421.00479,\n        \"min\": 1376771633173.0,\n        \"max\": 1504493143790.0,\n        \"num_unique_values\": 13151,\n        \"samples\": [\n          1503822443541.0,\n          1400648327872.0\n        ],\n        \"semantic_type\": \"\",\n        \"description\": \"\"\n      }\n    },\n    {\n      \"column\": \"last_move_at\",\n      \"properties\": {\n        \"dtype\": \"number\",\n        \"std\": 28501400588.89002,\n        \"min\": 1376771863841.0,\n        \"max\": 1504493827262.0,\n        \"num_unique_values\": 13186,\n        \"samples\": [\n          1461210000000.0,\n          1414608954957.0\n        ],\n        \"semantic_type\": \"\",\n        \"description\": \"\"\n      }\n    },\n    {\n      \"column\": \"turns\",\n      \"properties\": {\n        \"dtype\": \"number\",\n        \"std\": 33,\n        \"min\": 1,\n        \"max\": 349,\n        \"num_unique_values\": 211,\n        \"samples\": [\n          37,\n          146\n        ],\n        \"semantic_type\": \"\",\n        \"description\": \"\"\n      }\n    },\n    {\n      \"column\": \"victory_status\",\n      \"properties\": {\n        \"dtype\": \"category\",\n        \"num_unique_values\": 4,\n        \"samples\": [\n          \"resign\",\n          \"draw\"\n        ],\n        \"semantic_type\": \"\",\n        \"description\": \"\"\n      }\n    },\n    {\n      \"column\": \"winner\",\n      \"properties\": {\n        \"dtype\": \"category\",\n        \"num_unique_values\": 3,\n        \"samples\": [\n          \"white\",\n          \"black\"\n        ],\n        \"semantic_type\": \"\",\n        \"description\": \"\"\n      }\n    },\n    {\n      \"column\": \"increment_code\",\n      \"properties\": {\n        \"dtype\": \"category\",\n        \"num_unique_values\": 400,\n        \"samples\": [\n          \"17+15\",\n          \"11+3\"\n        ],\n        \"semantic_type\": \"\",\n        \"description\": \"\"\n      }\n    },\n    {\n      \"column\": \"white_id\",\n      \"properties\": {\n        \"dtype\": \"category\",\n        \"num_unique_values\": 9438,\n        \"samples\": [\n          \"jotao\",\n          \"tosimiesseppo\"\n        ],\n        \"semantic_type\": \"\",\n        \"description\": \"\"\n      }\n    },\n    {\n      \"column\": \"white_rating\",\n      \"properties\": {\n        \"dtype\": \"number\",\n        \"std\": 291,\n        \"min\": 784,\n        \"max\": 2700,\n        \"num_unique_values\": 1516,\n        \"samples\": [\n          1571,\n          1232\n        ],\n        \"semantic_type\": \"\",\n        \"description\": \"\"\n      }\n    },\n    {\n      \"column\": \"black_id\",\n      \"properties\": {\n        \"dtype\": \"category\",\n        \"num_unique_values\": 9331,\n        \"samples\": [\n          \"tandemchess\",\n          \"ghaffari\"\n        ],\n        \"semantic_type\": \"\",\n        \"description\": \"\"\n      }\n    },\n    {\n      \"column\": \"black_rating\",\n      \"properties\": {\n        \"dtype\": \"number\",\n        \"std\": 291,\n        \"min\": 789,\n        \"max\": 2723,\n        \"num_unique_values\": 1521,\n        \"samples\": [\n          1811,\n          1817\n        ],\n        \"semantic_type\": \"\",\n        \"description\": \"\"\n      }\n    },\n    {\n      \"column\": \"moves\",\n      \"properties\": {\n        \"dtype\": \"string\",\n        \"num_unique_values\": 18920,\n        \"samples\": [\n          \"d4 Nf6 c4 e6 Nf3 d5 Nc3 Bb4 a3 Bxc3+ bxc3 c6 Bg5 O-O cxd5 cxd5 e3 Nbd7 Bd3 h6 Bf4 a6 Ne5 b5 a4 Bb7 axb5 axb5 Rxa8 Bxa8 Bxb5 Nxe5 Bxe5 Ne4 Qd3 Qa5 O-O Nxc3 Bd7 Rd8 Rc1 Rxd7 Qxc3 Qxc3 Rxc3 Ra7 Rc8+ Kh7 h3 Ra1+ Kh2 f6 Bd6 Ra6 Bf8 Kg8 Bc5+ Kh7 f3 h5 e4 dxe4 fxe4 Bxe4 Re8 Ra2 Rxe6 Rxg2+ Kh1 Bf3 Rd6\",\n          \"e4 c5 Nf3 Nc6 d4 cxd4 Nxd4 e5 Nxc6 bxc6 Nc3 Bb4 Bd2 Qf6 Qe2 a5 O-O-O Ba6 a3 Bxe2 Bxe2 Bxc3 Bxc3 Qxf2 Bf3 Nf6 Bxe5 O-O-O Rhf1 Qb6 Bd4 c5 Be3 d5 e5 d4 Bg5 Rhe8 exf6 gxf6 Bg4+ Kb7 Rxf6 Qb5 Bf3+ Ka7 Rxf7+ Ka6 Bxd8 Rxd8 Re1 Rb8 b3 a4 Be2 Qxe2 Rxe2 axb3 Re6+ Ka5 Ra7+ Kb5 cxb3 d3 Kd2 c4 bxc4+ Kxc4 Re4+ Kb3 Kxd3 Ka2 Rxh7 Rb3+ Kd4 Rxa3 Re2+ Kb3 Re3+ Ka4 Rxa3+ Kxa3 g4\"\n        ],\n        \"semantic_type\": \"\",\n        \"description\": \"\"\n      }\n    },\n    {\n      \"column\": \"opening_eco\",\n      \"properties\": {\n        \"dtype\": \"category\",\n        \"num_unique_values\": 365,\n        \"samples\": [\n          \"B25\",\n          \"A04\"\n        ],\n        \"semantic_type\": \"\",\n        \"description\": \"\"\n      }\n    },\n    {\n      \"column\": \"opening_name\",\n      \"properties\": {\n        \"dtype\": \"category\",\n        \"num_unique_values\": 1477,\n        \"samples\": [\n          \"Semi-Slav Defense: Marshall Gambit\",\n          \"Mikenas Defense\"\n        ],\n        \"semantic_type\": \"\",\n        \"description\": \"\"\n      }\n    },\n    {\n      \"column\": \"opening_ply\",\n      \"properties\": {\n        \"dtype\": \"number\",\n        \"std\": 2,\n        \"min\": 1,\n        \"max\": 28,\n        \"num_unique_values\": 23,\n        \"samples\": [\n          19,\n          7\n        ],\n        \"semantic_type\": \"\",\n        \"description\": \"\"\n      }\n    }\n  ]\n}"
            }
          },
          "metadata": {},
          "execution_count": 58
        }
      ]
    },
    {
      "cell_type": "markdown",
      "source": [
        "### **Menampilkan informasi dan deskripsi**"
      ],
      "metadata": {
        "id": "ZZwia-mH61Yo"
      }
    },
    {
      "cell_type": "code",
      "source": [
        "chess.info()"
      ],
      "metadata": {
        "colab": {
          "base_uri": "https://localhost:8080/"
        },
        "id": "xIktQ40Uhzu8",
        "outputId": "46754699-3cd1-4b70-f6a9-86ce5d75d5ae"
      },
      "execution_count": 59,
      "outputs": [
        {
          "output_type": "stream",
          "name": "stdout",
          "text": [
            "<class 'pandas.core.frame.DataFrame'>\n",
            "RangeIndex: 20058 entries, 0 to 20057\n",
            "Data columns (total 16 columns):\n",
            " #   Column          Non-Null Count  Dtype  \n",
            "---  ------          --------------  -----  \n",
            " 0   id              20058 non-null  object \n",
            " 1   rated           20058 non-null  bool   \n",
            " 2   created_at      20058 non-null  float64\n",
            " 3   last_move_at    20058 non-null  float64\n",
            " 4   turns           20058 non-null  int64  \n",
            " 5   victory_status  20058 non-null  object \n",
            " 6   winner          20058 non-null  object \n",
            " 7   increment_code  20058 non-null  object \n",
            " 8   white_id        20058 non-null  object \n",
            " 9   white_rating    20058 non-null  int64  \n",
            " 10  black_id        20058 non-null  object \n",
            " 11  black_rating    20058 non-null  int64  \n",
            " 12  moves           20058 non-null  object \n",
            " 13  opening_eco     20058 non-null  object \n",
            " 14  opening_name    20058 non-null  object \n",
            " 15  opening_ply     20058 non-null  int64  \n",
            "dtypes: bool(1), float64(2), int64(4), object(9)\n",
            "memory usage: 2.3+ MB\n"
          ]
        }
      ]
    },
    {
      "cell_type": "code",
      "source": [
        "chess.describe()"
      ],
      "metadata": {
        "colab": {
          "base_uri": "https://localhost:8080/",
          "height": 300
        },
        "id": "yeZ3TbfOkE9u",
        "outputId": "d8793adc-fb30-4623-b592-f177ba5eaca1"
      },
      "execution_count": 60,
      "outputs": [
        {
          "output_type": "execute_result",
          "data": {
            "text/plain": [
              "         created_at  last_move_at         turns  white_rating  black_rating  \\\n",
              "count  2.005800e+04  2.005800e+04  20058.000000  20058.000000  20058.000000   \n",
              "mean   1.483617e+12  1.483618e+12     60.465999   1596.631868   1588.831987   \n",
              "std    2.850151e+10  2.850140e+10     33.570585    291.253376    291.036126   \n",
              "min    1.376772e+12  1.376772e+12      1.000000    784.000000    789.000000   \n",
              "25%    1.477548e+12  1.477548e+12     37.000000   1398.000000   1391.000000   \n",
              "50%    1.496010e+12  1.496010e+12     55.000000   1567.000000   1562.000000   \n",
              "75%    1.503170e+12  1.503170e+12     79.000000   1793.000000   1784.000000   \n",
              "max    1.504493e+12  1.504494e+12    349.000000   2700.000000   2723.000000   \n",
              "\n",
              "        opening_ply  \n",
              "count  20058.000000  \n",
              "mean       4.816981  \n",
              "std        2.797152  \n",
              "min        1.000000  \n",
              "25%        3.000000  \n",
              "50%        4.000000  \n",
              "75%        6.000000  \n",
              "max       28.000000  "
            ],
            "text/html": [
              "\n",
              "  <div id=\"df-9734bb66-70d4-4eb6-9780-cc6bf3535a5a\" class=\"colab-df-container\">\n",
              "    <div>\n",
              "<style scoped>\n",
              "    .dataframe tbody tr th:only-of-type {\n",
              "        vertical-align: middle;\n",
              "    }\n",
              "\n",
              "    .dataframe tbody tr th {\n",
              "        vertical-align: top;\n",
              "    }\n",
              "\n",
              "    .dataframe thead th {\n",
              "        text-align: right;\n",
              "    }\n",
              "</style>\n",
              "<table border=\"1\" class=\"dataframe\">\n",
              "  <thead>\n",
              "    <tr style=\"text-align: right;\">\n",
              "      <th></th>\n",
              "      <th>created_at</th>\n",
              "      <th>last_move_at</th>\n",
              "      <th>turns</th>\n",
              "      <th>white_rating</th>\n",
              "      <th>black_rating</th>\n",
              "      <th>opening_ply</th>\n",
              "    </tr>\n",
              "  </thead>\n",
              "  <tbody>\n",
              "    <tr>\n",
              "      <th>count</th>\n",
              "      <td>2.005800e+04</td>\n",
              "      <td>2.005800e+04</td>\n",
              "      <td>20058.000000</td>\n",
              "      <td>20058.000000</td>\n",
              "      <td>20058.000000</td>\n",
              "      <td>20058.000000</td>\n",
              "    </tr>\n",
              "    <tr>\n",
              "      <th>mean</th>\n",
              "      <td>1.483617e+12</td>\n",
              "      <td>1.483618e+12</td>\n",
              "      <td>60.465999</td>\n",
              "      <td>1596.631868</td>\n",
              "      <td>1588.831987</td>\n",
              "      <td>4.816981</td>\n",
              "    </tr>\n",
              "    <tr>\n",
              "      <th>std</th>\n",
              "      <td>2.850151e+10</td>\n",
              "      <td>2.850140e+10</td>\n",
              "      <td>33.570585</td>\n",
              "      <td>291.253376</td>\n",
              "      <td>291.036126</td>\n",
              "      <td>2.797152</td>\n",
              "    </tr>\n",
              "    <tr>\n",
              "      <th>min</th>\n",
              "      <td>1.376772e+12</td>\n",
              "      <td>1.376772e+12</td>\n",
              "      <td>1.000000</td>\n",
              "      <td>784.000000</td>\n",
              "      <td>789.000000</td>\n",
              "      <td>1.000000</td>\n",
              "    </tr>\n",
              "    <tr>\n",
              "      <th>25%</th>\n",
              "      <td>1.477548e+12</td>\n",
              "      <td>1.477548e+12</td>\n",
              "      <td>37.000000</td>\n",
              "      <td>1398.000000</td>\n",
              "      <td>1391.000000</td>\n",
              "      <td>3.000000</td>\n",
              "    </tr>\n",
              "    <tr>\n",
              "      <th>50%</th>\n",
              "      <td>1.496010e+12</td>\n",
              "      <td>1.496010e+12</td>\n",
              "      <td>55.000000</td>\n",
              "      <td>1567.000000</td>\n",
              "      <td>1562.000000</td>\n",
              "      <td>4.000000</td>\n",
              "    </tr>\n",
              "    <tr>\n",
              "      <th>75%</th>\n",
              "      <td>1.503170e+12</td>\n",
              "      <td>1.503170e+12</td>\n",
              "      <td>79.000000</td>\n",
              "      <td>1793.000000</td>\n",
              "      <td>1784.000000</td>\n",
              "      <td>6.000000</td>\n",
              "    </tr>\n",
              "    <tr>\n",
              "      <th>max</th>\n",
              "      <td>1.504493e+12</td>\n",
              "      <td>1.504494e+12</td>\n",
              "      <td>349.000000</td>\n",
              "      <td>2700.000000</td>\n",
              "      <td>2723.000000</td>\n",
              "      <td>28.000000</td>\n",
              "    </tr>\n",
              "  </tbody>\n",
              "</table>\n",
              "</div>\n",
              "    <div class=\"colab-df-buttons\">\n",
              "\n",
              "  <div class=\"colab-df-container\">\n",
              "    <button class=\"colab-df-convert\" onclick=\"convertToInteractive('df-9734bb66-70d4-4eb6-9780-cc6bf3535a5a')\"\n",
              "            title=\"Convert this dataframe to an interactive table.\"\n",
              "            style=\"display:none;\">\n",
              "\n",
              "  <svg xmlns=\"http://www.w3.org/2000/svg\" height=\"24px\" viewBox=\"0 -960 960 960\">\n",
              "    <path d=\"M120-120v-720h720v720H120Zm60-500h600v-160H180v160Zm220 220h160v-160H400v160Zm0 220h160v-160H400v160ZM180-400h160v-160H180v160Zm440 0h160v-160H620v160ZM180-180h160v-160H180v160Zm440 0h160v-160H620v160Z\"/>\n",
              "  </svg>\n",
              "    </button>\n",
              "\n",
              "  <style>\n",
              "    .colab-df-container {\n",
              "      display:flex;\n",
              "      gap: 12px;\n",
              "    }\n",
              "\n",
              "    .colab-df-convert {\n",
              "      background-color: #E8F0FE;\n",
              "      border: none;\n",
              "      border-radius: 50%;\n",
              "      cursor: pointer;\n",
              "      display: none;\n",
              "      fill: #1967D2;\n",
              "      height: 32px;\n",
              "      padding: 0 0 0 0;\n",
              "      width: 32px;\n",
              "    }\n",
              "\n",
              "    .colab-df-convert:hover {\n",
              "      background-color: #E2EBFA;\n",
              "      box-shadow: 0px 1px 2px rgba(60, 64, 67, 0.3), 0px 1px 3px 1px rgba(60, 64, 67, 0.15);\n",
              "      fill: #174EA6;\n",
              "    }\n",
              "\n",
              "    .colab-df-buttons div {\n",
              "      margin-bottom: 4px;\n",
              "    }\n",
              "\n",
              "    [theme=dark] .colab-df-convert {\n",
              "      background-color: #3B4455;\n",
              "      fill: #D2E3FC;\n",
              "    }\n",
              "\n",
              "    [theme=dark] .colab-df-convert:hover {\n",
              "      background-color: #434B5C;\n",
              "      box-shadow: 0px 1px 3px 1px rgba(0, 0, 0, 0.15);\n",
              "      filter: drop-shadow(0px 1px 2px rgba(0, 0, 0, 0.3));\n",
              "      fill: #FFFFFF;\n",
              "    }\n",
              "  </style>\n",
              "\n",
              "    <script>\n",
              "      const buttonEl =\n",
              "        document.querySelector('#df-9734bb66-70d4-4eb6-9780-cc6bf3535a5a button.colab-df-convert');\n",
              "      buttonEl.style.display =\n",
              "        google.colab.kernel.accessAllowed ? 'block' : 'none';\n",
              "\n",
              "      async function convertToInteractive(key) {\n",
              "        const element = document.querySelector('#df-9734bb66-70d4-4eb6-9780-cc6bf3535a5a');\n",
              "        const dataTable =\n",
              "          await google.colab.kernel.invokeFunction('convertToInteractive',\n",
              "                                                    [key], {});\n",
              "        if (!dataTable) return;\n",
              "\n",
              "        const docLinkHtml = 'Like what you see? Visit the ' +\n",
              "          '<a target=\"_blank\" href=https://colab.research.google.com/notebooks/data_table.ipynb>data table notebook</a>'\n",
              "          + ' to learn more about interactive tables.';\n",
              "        element.innerHTML = '';\n",
              "        dataTable['output_type'] = 'display_data';\n",
              "        await google.colab.output.renderOutput(dataTable, element);\n",
              "        const docLink = document.createElement('div');\n",
              "        docLink.innerHTML = docLinkHtml;\n",
              "        element.appendChild(docLink);\n",
              "      }\n",
              "    </script>\n",
              "  </div>\n",
              "\n",
              "\n",
              "<div id=\"df-3ee87fe6-f761-4031-aa46-bc88246fd7f8\">\n",
              "  <button class=\"colab-df-quickchart\" onclick=\"quickchart('df-3ee87fe6-f761-4031-aa46-bc88246fd7f8')\"\n",
              "            title=\"Suggest charts\"\n",
              "            style=\"display:none;\">\n",
              "\n",
              "<svg xmlns=\"http://www.w3.org/2000/svg\" height=\"24px\"viewBox=\"0 0 24 24\"\n",
              "     width=\"24px\">\n",
              "    <g>\n",
              "        <path d=\"M19 3H5c-1.1 0-2 .9-2 2v14c0 1.1.9 2 2 2h14c1.1 0 2-.9 2-2V5c0-1.1-.9-2-2-2zM9 17H7v-7h2v7zm4 0h-2V7h2v10zm4 0h-2v-4h2v4z\"/>\n",
              "    </g>\n",
              "</svg>\n",
              "  </button>\n",
              "\n",
              "<style>\n",
              "  .colab-df-quickchart {\n",
              "      --bg-color: #E8F0FE;\n",
              "      --fill-color: #1967D2;\n",
              "      --hover-bg-color: #E2EBFA;\n",
              "      --hover-fill-color: #174EA6;\n",
              "      --disabled-fill-color: #AAA;\n",
              "      --disabled-bg-color: #DDD;\n",
              "  }\n",
              "\n",
              "  [theme=dark] .colab-df-quickchart {\n",
              "      --bg-color: #3B4455;\n",
              "      --fill-color: #D2E3FC;\n",
              "      --hover-bg-color: #434B5C;\n",
              "      --hover-fill-color: #FFFFFF;\n",
              "      --disabled-bg-color: #3B4455;\n",
              "      --disabled-fill-color: #666;\n",
              "  }\n",
              "\n",
              "  .colab-df-quickchart {\n",
              "    background-color: var(--bg-color);\n",
              "    border: none;\n",
              "    border-radius: 50%;\n",
              "    cursor: pointer;\n",
              "    display: none;\n",
              "    fill: var(--fill-color);\n",
              "    height: 32px;\n",
              "    padding: 0;\n",
              "    width: 32px;\n",
              "  }\n",
              "\n",
              "  .colab-df-quickchart:hover {\n",
              "    background-color: var(--hover-bg-color);\n",
              "    box-shadow: 0 1px 2px rgba(60, 64, 67, 0.3), 0 1px 3px 1px rgba(60, 64, 67, 0.15);\n",
              "    fill: var(--button-hover-fill-color);\n",
              "  }\n",
              "\n",
              "  .colab-df-quickchart-complete:disabled,\n",
              "  .colab-df-quickchart-complete:disabled:hover {\n",
              "    background-color: var(--disabled-bg-color);\n",
              "    fill: var(--disabled-fill-color);\n",
              "    box-shadow: none;\n",
              "  }\n",
              "\n",
              "  .colab-df-spinner {\n",
              "    border: 2px solid var(--fill-color);\n",
              "    border-color: transparent;\n",
              "    border-bottom-color: var(--fill-color);\n",
              "    animation:\n",
              "      spin 1s steps(1) infinite;\n",
              "  }\n",
              "\n",
              "  @keyframes spin {\n",
              "    0% {\n",
              "      border-color: transparent;\n",
              "      border-bottom-color: var(--fill-color);\n",
              "      border-left-color: var(--fill-color);\n",
              "    }\n",
              "    20% {\n",
              "      border-color: transparent;\n",
              "      border-left-color: var(--fill-color);\n",
              "      border-top-color: var(--fill-color);\n",
              "    }\n",
              "    30% {\n",
              "      border-color: transparent;\n",
              "      border-left-color: var(--fill-color);\n",
              "      border-top-color: var(--fill-color);\n",
              "      border-right-color: var(--fill-color);\n",
              "    }\n",
              "    40% {\n",
              "      border-color: transparent;\n",
              "      border-right-color: var(--fill-color);\n",
              "      border-top-color: var(--fill-color);\n",
              "    }\n",
              "    60% {\n",
              "      border-color: transparent;\n",
              "      border-right-color: var(--fill-color);\n",
              "    }\n",
              "    80% {\n",
              "      border-color: transparent;\n",
              "      border-right-color: var(--fill-color);\n",
              "      border-bottom-color: var(--fill-color);\n",
              "    }\n",
              "    90% {\n",
              "      border-color: transparent;\n",
              "      border-bottom-color: var(--fill-color);\n",
              "    }\n",
              "  }\n",
              "</style>\n",
              "\n",
              "  <script>\n",
              "    async function quickchart(key) {\n",
              "      const quickchartButtonEl =\n",
              "        document.querySelector('#' + key + ' button');\n",
              "      quickchartButtonEl.disabled = true;  // To prevent multiple clicks.\n",
              "      quickchartButtonEl.classList.add('colab-df-spinner');\n",
              "      try {\n",
              "        const charts = await google.colab.kernel.invokeFunction(\n",
              "            'suggestCharts', [key], {});\n",
              "      } catch (error) {\n",
              "        console.error('Error during call to suggestCharts:', error);\n",
              "      }\n",
              "      quickchartButtonEl.classList.remove('colab-df-spinner');\n",
              "      quickchartButtonEl.classList.add('colab-df-quickchart-complete');\n",
              "    }\n",
              "    (() => {\n",
              "      let quickchartButtonEl =\n",
              "        document.querySelector('#df-3ee87fe6-f761-4031-aa46-bc88246fd7f8 button');\n",
              "      quickchartButtonEl.style.display =\n",
              "        google.colab.kernel.accessAllowed ? 'block' : 'none';\n",
              "    })();\n",
              "  </script>\n",
              "</div>\n",
              "\n",
              "    </div>\n",
              "  </div>\n"
            ],
            "application/vnd.google.colaboratory.intrinsic+json": {
              "type": "dataframe",
              "summary": "{\n  \"name\": \"chess\",\n  \"rows\": 8,\n  \"fields\": [\n    {\n      \"column\": \"created_at\",\n      \"properties\": {\n        \"dtype\": \"number\",\n        \"std\": 676839899490.9791,\n        \"min\": 20058.0,\n        \"max\": 1504493143790.0,\n        \"num_unique_values\": 8,\n        \"samples\": [\n          1483616852629.0925,\n          1496010000000.0,\n          20058.0\n        ],\n        \"semantic_type\": \"\",\n        \"description\": \"\"\n      }\n    },\n    {\n      \"column\": \"last_move_at\",\n      \"properties\": {\n        \"dtype\": \"number\",\n        \"std\": 676840063250.0369,\n        \"min\": 20058.0,\n        \"max\": 1504493827262.0,\n        \"num_unique_values\": 8,\n        \"samples\": [\n          1483617722336.142,\n          1496010000000.0,\n          20058.0\n        ],\n        \"semantic_type\": \"\",\n        \"description\": \"\"\n      }\n    },\n    {\n      \"column\": \"turns\",\n      \"properties\": {\n        \"dtype\": \"number\",\n        \"std\": 7061.351336920907,\n        \"min\": 1.0,\n        \"max\": 20058.0,\n        \"num_unique_values\": 8,\n        \"samples\": [\n          60.46599860404826,\n          55.0,\n          20058.0\n        ],\n        \"semantic_type\": \"\",\n        \"description\": \"\"\n      }\n    },\n    {\n      \"column\": \"white_rating\",\n      \"properties\": {\n        \"dtype\": \"number\",\n        \"std\": 6617.868365444669,\n        \"min\": 291.2533757370189,\n        \"max\": 20058.0,\n        \"num_unique_values\": 8,\n        \"samples\": [\n          1596.6318675840064,\n          1567.0,\n          20058.0\n        ],\n        \"semantic_type\": \"\",\n        \"description\": \"\"\n      }\n    },\n    {\n      \"column\": \"black_rating\",\n      \"properties\": {\n        \"dtype\": \"number\",\n        \"std\": 6618.385736500956,\n        \"min\": 291.03612596033423,\n        \"max\": 20058.0,\n        \"num_unique_values\": 8,\n        \"samples\": [\n          1588.8319872370128,\n          1562.0,\n          20058.0\n        ],\n        \"semantic_type\": \"\",\n        \"description\": \"\"\n      }\n    },\n    {\n      \"column\": \"opening_ply\",\n      \"properties\": {\n        \"dtype\": \"number\",\n        \"std\": 7089.073310024768,\n        \"min\": 1.0,\n        \"max\": 20058.0,\n        \"num_unique_values\": 8,\n        \"samples\": [\n          4.8169807558081565,\n          4.0,\n          20058.0\n        ],\n        \"semantic_type\": \"\",\n        \"description\": \"\"\n      }\n    }\n  ]\n}"
            }
          },
          "metadata": {},
          "execution_count": 60
        }
      ]
    },
    {
      "cell_type": "markdown",
      "source": [
        "### **Menampilkan jumlah baris, kolom, missing values, dan data duplikat**"
      ],
      "metadata": {
        "id": "9nJ1Qh256899"
      }
    },
    {
      "cell_type": "code",
      "source": [
        "print(\"jumlah baris pada dataset : \", chess.shape[0])\n",
        "print(\"jumlah kolom pada dataset : \", chess.shape[1])"
      ],
      "metadata": {
        "colab": {
          "base_uri": "https://localhost:8080/"
        },
        "id": "7JR6vaMHfuSn",
        "outputId": "09e8a738-0470-450a-8b06-2ea673c5b469"
      },
      "execution_count": 61,
      "outputs": [
        {
          "output_type": "stream",
          "name": "stdout",
          "text": [
            "jumlah baris pada dataset :  20058\n",
            "jumlah kolom pada dataset :  16\n"
          ]
        }
      ]
    },
    {
      "cell_type": "code",
      "source": [
        "print(\"Jumlah data yang memiliki missing value: \", chess.isnull().sum().sum())"
      ],
      "metadata": {
        "colab": {
          "base_uri": "https://localhost:8080/"
        },
        "id": "zUzxposoEa7S",
        "outputId": "8e5284b9-7d16-4cf5-ad5d-bdc4e17bf9a1"
      },
      "execution_count": 62,
      "outputs": [
        {
          "output_type": "stream",
          "name": "stdout",
          "text": [
            "Jumlah data yang memiliki missing value:  0\n"
          ]
        }
      ]
    },
    {
      "cell_type": "code",
      "source": [
        "jumlah_duplikat = chess[chess.duplicated()]\n",
        "print(\"Jumlah data yang terduplikasi: \", jumlah_duplikat.shape)"
      ],
      "metadata": {
        "colab": {
          "base_uri": "https://localhost:8080/"
        },
        "id": "V5c1lCfAGTGa",
        "outputId": "f05df5a5-ef7a-4fc1-b2a7-d6b30ca49dc1"
      },
      "execution_count": 63,
      "outputs": [
        {
          "output_type": "stream",
          "name": "stdout",
          "text": [
            "Jumlah data yang terduplikasi:  (429, 16)\n"
          ]
        }
      ]
    },
    {
      "cell_type": "markdown",
      "source": [
        "### **Menghapus data duplikat**"
      ],
      "metadata": {
        "id": "uCR7q-Ty7GEK"
      }
    },
    {
      "cell_type": "code",
      "source": [
        "chess = chess.drop_duplicates()\n",
        "chess.count()"
      ],
      "metadata": {
        "colab": {
          "base_uri": "https://localhost:8080/"
        },
        "id": "LP16izc9GbWk",
        "outputId": "f35810b2-21df-478f-934c-cfe251754319"
      },
      "execution_count": 64,
      "outputs": [
        {
          "output_type": "execute_result",
          "data": {
            "text/plain": [
              "id                19629\n",
              "rated             19629\n",
              "created_at        19629\n",
              "last_move_at      19629\n",
              "turns             19629\n",
              "victory_status    19629\n",
              "winner            19629\n",
              "increment_code    19629\n",
              "white_id          19629\n",
              "white_rating      19629\n",
              "black_id          19629\n",
              "black_rating      19629\n",
              "moves             19629\n",
              "opening_eco       19629\n",
              "opening_name      19629\n",
              "opening_ply       19629\n",
              "dtype: int64"
            ]
          },
          "metadata": {},
          "execution_count": 64
        }
      ]
    },
    {
      "cell_type": "markdown",
      "source": [
        "### **Visualisasi distribusi pemenang**"
      ],
      "metadata": {
        "id": "bw2j8DTnkbah"
      }
    },
    {
      "cell_type": "code",
      "source": [
        "sns.countplot(x='winner', hue='winner', data=chess, palette={'white': 'blue', 'black': '#FF4733', 'draw': 'green'}, legend=False)\n",
        "plt.title('Distribusi Pemenang')\n",
        "plt.xlabel('Pemenang')\n",
        "plt.ylabel('Jumlah')\n",
        "plt.show()"
      ],
      "metadata": {
        "colab": {
          "base_uri": "https://localhost:8080/",
          "height": 472
        },
        "id": "pAFWqXlzkeHm",
        "outputId": "164440a2-7871-4051-b15c-0aff1fa087b5"
      },
      "execution_count": 65,
      "outputs": [
        {
          "output_type": "display_data",
          "data": {
            "text/plain": [
              "<Figure size 640x480 with 1 Axes>"
            ],
            "image/png": "[encoded data removed]"
          },
          "metadata": {}
        }
      ]
    },
    {
      "cell_type": "markdown",
      "source": [
        "# **Preprocessing Data**"
      ],
      "metadata": {
        "id": "2yhkPmiY7ZbA"
      }
    },
    {
      "cell_type": "markdown",
      "source": [
        "### **Memilih fitur dan target**"
      ],
      "metadata": {
        "id": "jwRz923Okthl"
      }
    },
    {
      "cell_type": "code",
      "source": [
        "fitur = chess[['white_rating', 'black_rating', 'turns']]\n",
        "target = chess['winner']"
      ],
      "metadata": {
        "id": "5T1waQSbkwvt"
      },
      "execution_count": 66,
      "outputs": []
    },
    {
      "cell_type": "markdown",
      "source": [
        "### **Mengubah label target menjadi nilai numerik**"
      ],
      "metadata": {
        "id": "i31xlGrFX_m_"
      }
    },
    {
      "cell_type": "code",
      "source": [
        "label_encoder = LabelEncoder()\n",
        "target_encoded = label_encoder.fit_transform(target)"
      ],
      "metadata": {
        "id": "cYumcAe1LgWd"
      },
      "execution_count": 67,
      "outputs": []
    },
    {
      "cell_type": "markdown",
      "source": [
        "### **Menampilkan korelasi fitur**"
      ],
      "metadata": {
        "id": "Ax7zebE0YHiE"
      }
    },
    {
      "cell_type": "code",
      "source": [
        "plt.figure(figsize=(10, 6))\n",
        "\n",
        "plt.subplot(2, 2, 1)\n",
        "sns.histplot(chess['white_rating'], color='blue', bins=30)\n",
        "plt.xlabel('white_rating')\n",
        "plt.ylabel('Jumlah')\n",
        "plt.grid(True)\n",
        "\n",
        "plt.subplot(2, 2, 2)\n",
        "sns.histplot(chess['black_rating'], color='#FF4733', bins=30)\n",
        "plt.xlabel('black_rating')\n",
        "plt.ylabel('Jumlah')\n",
        "plt.grid(True)\n",
        "\n",
        "plt.subplot(2, 2, 3)\n",
        "sns.histplot(chess['turns'], color='green', bins=30)\n",
        "plt.xlabel('Turns')\n",
        "plt.ylabel('Jumlah')\n",
        "plt.grid(True)\n",
        "\n",
        "plt.subplot(2, 2, 4)\n",
        "plt.axis('off')\n",
        "plt.annotate('Korelasi Fitur', xy=(0.5, 0.5),\n",
        "             fontsize=24, ha='center', va='center')\n",
        "\n",
        "plt.tight_layout()\n",
        "plt.show()"
      ],
      "metadata": {
        "colab": {
          "base_uri": "https://localhost:8080/",
          "height": 606
        },
        "id": "OQOiQIHcHeM6",
        "outputId": "5ee9e24a-2328-4c54-8982-2e759dc392ab"
      },
      "execution_count": 68,
      "outputs": [
        {
          "output_type": "display_data",
          "data": {
            "text/plain": [
              "<Figure size 1000x600 with 4 Axes>"
            ],
            "image/png": "[encoded data removed]"
          },
          "metadata": {}
        }
      ]
    },
    {
      "cell_type": "markdown",
      "source": [
        "### **Normalisasi fitur**"
      ],
      "metadata": {
        "id": "qxJ13tPHYZQY"
      }
    },
    {
      "cell_type": "code",
      "source": [
        "scaler = StandardScaler()\n",
        "fitur_scaled = scaler.fit_transform(fitur)"
      ],
      "metadata": {
        "id": "-I8nIcLQLsuW"
      },
      "execution_count": 69,
      "outputs": []
    },
    {
      "cell_type": "markdown",
      "source": [
        "### **Visualisasi fitur yang sudah dinormalisasi**"
      ],
      "metadata": {
        "id": "5FNcQmwNYiLI"
      }
    },
    {
      "cell_type": "code",
      "source": [
        "fitur_scaled_df = pd.DataFrame(fitur_scaled, columns=fitur.columns)\n",
        "\n",
        "plt.figure(figsize=(10, 6))\n",
        "\n",
        "plt.subplot(2, 2, 1)\n",
        "sns.histplot(fitur_scaled_df['white_rating'], color='blue', bins=30)\n",
        "plt.xlabel('white_rating')\n",
        "plt.ylabel('Jumlah')\n",
        "plt.grid(True)\n",
        "\n",
        "plt.subplot(2, 2, 2)\n",
        "sns.histplot(fitur_scaled_df['black_rating'], color='#FF4733', bins=30)\n",
        "plt.xlabel('black_rating')\n",
        "plt.ylabel('Jumlah')\n",
        "plt.grid(True)\n",
        "\n",
        "plt.subplot(2, 2, 3)\n",
        "sns.histplot(fitur_scaled_df['turns'], color='green', bins=30)\n",
        "plt.xlabel('Turns')\n",
        "plt.ylabel('Jumlah')\n",
        "plt.grid(True)\n",
        "\n",
        "plt.subplot(2, 2, 4)\n",
        "plt.axis('off')\n",
        "plt.annotate('Fitur yang Dinormalisasi', xy=(0.5, 0.5),\n",
        "             fontsize=24, ha='center', va='center')\n",
        "\n",
        "plt.tight_layout()\n",
        "plt.show()"
      ],
      "metadata": {
        "colab": {
          "base_uri": "https://localhost:8080/",
          "height": 606
        },
        "id": "1ICjfVJVvm1v",
        "outputId": "17cfa854-db7b-4385-c69d-05724fa39446"
      },
      "execution_count": 70,
      "outputs": [
        {
          "output_type": "display_data",
          "data": {
            "text/plain": [
              "<Figure size 1000x600 with 4 Axes>"
            ],
            "image/png": "[encoded data removed]"
          },
          "metadata": {}
        }
      ]
    },
    {
      "cell_type": "markdown",
      "source": [
        "### **Membagi data menjadi set pelatihan dan pengujian**\n"
      ],
      "metadata": {
        "id": "oD1cIr7pY5zA"
      }
    },
    {
      "cell_type": "code",
      "source": [
        "X_train, X_test, y_train, y_test = train_test_split(fitur_scaled, target_encoded, test_size=0.2, random_state=42)"
      ],
      "metadata": {
        "id": "MwheWD6vL6h2"
      },
      "execution_count": 71,
      "outputs": []
    },
    {
      "cell_type": "markdown",
      "source": [
        "# **Training dan Pengujian Data**"
      ],
      "metadata": {
        "id": "blkaqCoE7yMj"
      }
    },
    {
      "cell_type": "markdown",
      "source": [
        "### **Menentukan nilai K terbaik menggunakan cross-validation**"
      ],
      "metadata": {
        "id": "TpeD7WRgZBpk"
      }
    },
    {
      "cell_type": "code",
      "source": [
        "k_range = range(1, 31)\n",
        "k_scores = []\n",
        "\n",
        "for k in k_range:\n",
        "    knn = KNeighborsClassifier(n_neighbors=k)\n",
        "    scores = cross_val_score(knn, X_train, y_train, cv=10, scoring='accuracy')\n",
        "    k_scores.append(scores.mean())"
      ],
      "metadata": {
        "id": "K4fO0lcrR3sb"
      },
      "execution_count": 72,
      "outputs": []
    },
    {
      "cell_type": "markdown",
      "source": [
        "### **Visualisasi nilai K terbaik berdasarkan hasil cross-validation**"
      ],
      "metadata": {
        "id": "oc7umoH-ZK0W"
      }
    },
    {
      "cell_type": "code",
      "source": [
        "best_k = k_range[np.argmax(k_scores)]\n",
        "plt.axvline(x=best_k, color='r', linestyle='--', label=f'Nilai K terbaik: {best_k}')\n",
        "\n",
        "plt.plot(k_range, k_scores)\n",
        "plt.xlabel('Nilai K')\n",
        "plt.ylabel('Rata-rata Akurasi Cross-Validation')\n",
        "plt.title('Menentukan Nilai K Terbaik')\n",
        "plt.legend()\n",
        "plt.show()"
      ],
      "metadata": {
        "colab": {
          "base_uri": "https://localhost:8080/",
          "height": 472
        },
        "id": "LLCmdqTFSbfP",
        "outputId": "dc424531-023f-4b77-8206-fd5332bc526f"
      },
      "execution_count": 73,
      "outputs": [
        {
          "output_type": "display_data",
          "data": {
            "text/plain": [
              "<Figure size 640x480 with 1 Axes>"
            ],
            "image/png": "[encoded data removed]"
          },
          "metadata": {}
        }
      ]
    },
    {
      "cell_type": "markdown",
      "source": [
        "### **Melatih model KNN dengan nilai K terbaik**"
      ],
      "metadata": {
        "id": "949FEsMoZVG-"
      }
    },
    {
      "cell_type": "code",
      "source": [
        "knn = KNeighborsClassifier(n_neighbors=best_k)\n",
        "knn.fit(X_train, y_train)"
      ],
      "metadata": {
        "colab": {
          "base_uri": "https://localhost:8080/",
          "height": 75
        },
        "id": "jKMX2-77ShBk",
        "outputId": "30d54c8b-5e58-4ea9-97f0-aec32115c8eb"
      },
      "execution_count": 74,
      "outputs": [
        {
          "output_type": "execute_result",
          "data": {
            "text/plain": [
              "KNeighborsClassifier(n_neighbors=29)"
            ],
            "text/html": [
              "<style>#sk-container-id-2 {color: black;background-color: white;}#sk-container-id-2 pre{padding: 0;}#sk-container-id-2 div.sk-toggleable {background-color: white;}#sk-container-id-2 label.sk-toggleable__label {cursor: pointer;display: block;width: 100%;margin-bottom: 0;padding: 0.3em;box-sizing: border-box;text-align: center;}#sk-container-id-2 label.sk-toggleable__label-arrow:before {content: \"▸\";float: left;margin-right: 0.25em;color: #696969;}#sk-container-id-2 label.sk-toggleable__label-arrow:hover:before {color: black;}#sk-container-id-2 div.sk-estimator:hover label.sk-toggleable__label-arrow:before {color: black;}#sk-container-id-2 div.sk-toggleable__content {max-height: 0;max-width: 0;overflow: hidden;text-align: left;background-color: #f0f8ff;}#sk-container-id-2 div.sk-toggleable__content pre {margin: 0.2em;color: black;border-radius: 0.25em;background-color: #f0f8ff;}#sk-container-id-2 input.sk-toggleable__control:checked~div.sk-toggleable__content {max-height: 200px;max-width: 100%;overflow: auto;}#sk-container-id-2 input.sk-toggleable__control:checked~label.sk-toggleable__label-arrow:before {content: \"▾\";}#sk-container-id-2 div.sk-estimator input.sk-toggleable__control:checked~label.sk-toggleable__label {background-color: #d4ebff;}#sk-container-id-2 div.sk-label input.sk-toggleable__control:checked~label.sk-toggleable__label {background-color: #d4ebff;}#sk-container-id-2 input.sk-hidden--visually {border: 0;clip: rect(1px 1px 1px 1px);clip: rect(1px, 1px, 1px, 1px);height: 1px;margin: -1px;overflow: hidden;padding: 0;position: absolute;width: 1px;}#sk-container-id-2 div.sk-estimator {font-family: monospace;background-color: #f0f8ff;border: 1px dotted black;border-radius: 0.25em;box-sizing: border-box;margin-bottom: 0.5em;}#sk-container-id-2 div.sk-estimator:hover {background-color: #d4ebff;}#sk-container-id-2 div.sk-parallel-item::after {content: \"\";width: 100%;border-bottom: 1px solid gray;flex-grow: 1;}#sk-container-id-2 div.sk-label:hover label.sk-toggleable__label {background-color: #d4ebff;}#sk-container-id-2 div.sk-serial::before {content: \"\";position: absolute;border-left: 1px solid gray;box-sizing: border-box;top: 0;bottom: 0;left: 50%;z-index: 0;}#sk-container-id-2 div.sk-serial {display: flex;flex-direction: column;align-items: center;background-color: white;padding-right: 0.2em;padding-left: 0.2em;position: relative;}#sk-container-id-2 div.sk-item {position: relative;z-index: 1;}#sk-container-id-2 div.sk-parallel {display: flex;align-items: stretch;justify-content: center;background-color: white;position: relative;}#sk-container-id-2 div.sk-item::before, #sk-container-id-2 div.sk-parallel-item::before {content: \"\";position: absolute;border-left: 1px solid gray;box-sizing: border-box;top: 0;bottom: 0;left: 50%;z-index: -1;}#sk-container-id-2 div.sk-parallel-item {display: flex;flex-direction: column;z-index: 1;position: relative;background-color: white;}#sk-container-id-2 div.sk-parallel-item:first-child::after {align-self: flex-end;width: 50%;}#sk-container-id-2 div.sk-parallel-item:last-child::after {align-self: flex-start;width: 50%;}#sk-container-id-2 div.sk-parallel-item:only-child::after {width: 0;}#sk-container-id-2 div.sk-dashed-wrapped {border: 1px dashed gray;margin: 0 0.4em 0.5em 0.4em;box-sizing: border-box;padding-bottom: 0.4em;background-color: white;}#sk-container-id-2 div.sk-label label {font-family: monospace;font-weight: bold;display: inline-block;line-height: 1.2em;}#sk-container-id-2 div.sk-label-container {text-align: center;}#sk-container-id-2 div.sk-container {/* jupyter's `normalize.less` sets `[hidden] { display: none; }` but bootstrap.min.css set `[hidden] { display: none !important; }` so we also need the `!important` here to be able to override the default hidden behavior on the sphinx rendered scikit-learn.org. See: https://github.com/scikit-learn/scikit-learn/issues/21755 */display: inline-block !important;position: relative;}#sk-container-id-2 div.sk-text-repr-fallback {display: none;}</style><div id=\"sk-container-id-2\" class=\"sk-top-container\"><div class=\"sk-text-repr-fallback\"><pre>KNeighborsClassifier(n_neighbors=29)</pre><b>In a Jupyter environment, please rerun this cell to show the HTML representation or trust the notebook. <br />On GitHub, the HTML representation is unable to render, please try loading this page with nbviewer.org.</b></div><div class=\"sk-container\" hidden><div class=\"sk-item\"><div class=\"sk-estimator sk-toggleable\"><input class=\"sk-toggleable__control sk-hidden--visually\" id=\"sk-estimator-id-2\" type=\"checkbox\" checked><label for=\"sk-estimator-id-2\" class=\"sk-toggleable__label sk-toggleable__label-arrow\">KNeighborsClassifier</label><div class=\"sk-toggleable__content\"><pre>KNeighborsClassifier(n_neighbors=29)</pre></div></div></div></div></div>"
            ]
          },
          "metadata": {},
          "execution_count": 74
        }
      ]
    },
    {
      "cell_type": "markdown",
      "source": [
        "### **Melakukan prediksi**"
      ],
      "metadata": {
        "id": "H8HFNTx0ZcKy"
      }
    },
    {
      "cell_type": "code",
      "source": [
        "y_pred = knn.predict(X_test)"
      ],
      "metadata": {
        "id": "ydTeF26nMBAO"
      },
      "execution_count": 75,
      "outputs": []
    },
    {
      "cell_type": "markdown",
      "source": [
        "# **Evaluasi Model**"
      ],
      "metadata": {
        "id": "EtK6-WZS9TuE"
      }
    },
    {
      "cell_type": "markdown",
      "source": [
        "### **Mengevaluasi model**"
      ],
      "metadata": {
        "id": "zq7tXFiZZjRS"
      }
    },
    {
      "cell_type": "code",
      "source": [
        "akurasi = accuracy_score(y_test, y_pred)\n",
        "print(f'Akurasi Model: {akurasi * 100:.2f}%')"
      ],
      "metadata": {
        "colab": {
          "base_uri": "https://localhost:8080/"
        },
        "id": "6XtrWx5yMDu1",
        "outputId": "476885f5-daee-4b31-ca87-6ce9489867af"
      },
      "execution_count": 76,
      "outputs": [
        {
          "output_type": "stream",
          "name": "stdout",
          "text": [
            "Akurasi Model: 60.04%\n"
          ]
        }
      ]
    },
    {
      "cell_type": "markdown",
      "source": [
        "### **Laporan klasifikasi**"
      ],
      "metadata": {
        "id": "E5OiomUDZp4n"
      }
    },
    {
      "cell_type": "code",
      "source": [
        "print(\"Laporan Klasifikasi:\")\n",
        "print(classification_report(y_test, y_pred, target_names=label_encoder.classes_))"
      ],
      "metadata": {
        "colab": {
          "base_uri": "https://localhost:8080/"
        },
        "id": "30CpZC6ZMGW0",
        "outputId": "63a9f386-df6f-4312-bbd2-2694ebbb045b"
      },
      "execution_count": 77,
      "outputs": [
        {
          "output_type": "stream",
          "name": "stdout",
          "text": [
            "Laporan Klasifikasi:\n",
            "              precision    recall  f1-score   support\n",
            "\n",
            "       black       0.57      0.61      0.59      1763\n",
            "        draw       0.00      0.00      0.00       179\n",
            "       white       0.62      0.65      0.64      1984\n",
            "\n",
            "    accuracy                           0.60      3926\n",
            "   macro avg       0.40      0.42      0.41      3926\n",
            "weighted avg       0.57      0.60      0.59      3926\n",
            "\n"
          ]
        }
      ]
    },
    {
      "cell_type": "markdown",
      "source": [
        "# **Contoh Hasil Prediksi**"
      ],
      "metadata": {
        "id": "K0ltnV-w9fgi"
      }
    },
    {
      "cell_type": "markdown",
      "source": [
        "### **Menampilkan contoh hasil prediksi**"
      ],
      "metadata": {
        "id": "6T14UpDoZ53O"
      }
    },
    {
      "cell_type": "code",
      "source": [
        "data_test = 9\n",
        "\n",
        "data_contoh = X_test[data_test].reshape(1, -1)\n",
        "prediksi_contoh = knn.predict(data_contoh)\n",
        "hasil_prediksi = label_encoder.inverse_transform(prediksi_contoh)[0]\n",
        "data_asli = label_encoder.inverse_transform([y_test[data_test]])[0]"
      ],
      "metadata": {
        "id": "u3843mv3MQY7"
      },
      "execution_count": 78,
      "outputs": []
    },
    {
      "cell_type": "code",
      "source": [
        "print(f'Data Contoh ke {data_test}:', scaler.inverse_transform(data_contoh))\n",
        "print(f'Prediksi Hasil Permainan ke {data_test}:', hasil_prediksi)\n",
        "print(f'Data Asli Hasil Permainan ke {data_test}:', data_asli)"
      ],
      "metadata": {
        "colab": {
          "base_uri": "https://localhost:8080/"
        },
        "id": "JbIByZiWMSvd",
        "outputId": "39ca7cfc-fe4e-43e9-ebfb-2a06f27f589a"
      },
      "execution_count": 79,
      "outputs": [
        {
          "output_type": "stream",
          "name": "stdout",
          "text": [
            "Data Contoh ke 9: [[2105. 1738.   40.]]\n",
            "Prediksi Hasil Permainan ke 9: white\n",
            "Data Asli Hasil Permainan ke 9: white\n"
          ]
        }
      ]
    },
    {
      "cell_type": "code",
      "source": [
        "plt.figure(figsize=(10, 6))\n",
        "sns.countplot(x=['Prediksi Hasil Permainan', 'Data Asli Hasil Permainan'], hue=[hasil_prediksi, data_asli],\n",
        "              palette={'white': 'blue', 'black': '#FF4733', 'draw': 'green'}, width=0.4)\n",
        "\n",
        "plt.title(f'Perbandingan Prediksi Hasil Permainan dan Data Asli ke {data_test}')\n",
        "plt.xlabel('Tipe')\n",
        "\n",
        "plt.legend(['Prediksi: ' + hasil_prediksi, 'Data Asli: ' + data_asli])\n",
        "\n",
        "plt.show()"
      ],
      "metadata": {
        "colab": {
          "base_uri": "https://localhost:8080/",
          "height": 564
        },
        "id": "MlB_CNciC9ps",
        "outputId": "76c0c998-8aca-4164-a314-66d89c7d3ae9"
      },
      "execution_count": 80,
      "outputs": [
        {
          "output_type": "display_data",
          "data": {
            "text/plain": [
              "<Figure size 1000x600 with 1 Axes>"
            ],
            "image/png": "[encoded data removed]"
          },
          "metadata": {}
        }
      ]
    }
  ]
}